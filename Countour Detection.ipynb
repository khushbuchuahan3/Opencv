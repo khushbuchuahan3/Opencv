{
 "cells": [
  {
   "cell_type": "code",
   "execution_count": null,
   "id": "3a81a66e",
   "metadata": {},
   "outputs": [],
   "source": [
    "import cv2\n",
    "img=cv2.imread(\"friendsjpg.jpg\")\n",
    "grey=cv2.cvtColor(img,cv2.COLOR_BGR2GRAY)\n",
    "\n",
    "#Convert Grey Scale to Binary\n",
    "ret,binary=cv2.threshold(grey,100,255,cv2.THRESH_BINARY+cv2.THRESH_OTSU)\n",
    "\n",
    "#Detect Countours\n",
    "coutour,hirarchy=cv2.findContours(binary,cv2.RETR_LIST,cv2.CHAIN_APPROX_NONE)\n",
    "print(coutour)\n",
    "\n",
    "#Draw Countour on Origional Image\n",
    "image_copy=img.copy()\n",
    "image_copy=cv2.drawContours(image_copy,coutour,-1,(0,255,0),2)\n",
    "\n",
    "#Visualizing Result\n",
    "cv2.imshow(\"binary\",binary)\n",
    "cv2.imshow(\"image\",image_copy)\n",
    "cv2.waitKey(0)"
   ]
  }
 ],
 "metadata": {
  "kernelspec": {
   "display_name": "Python 3",
   "language": "python",
   "name": "python3"
  },
  "language_info": {
   "codemirror_mode": {
    "name": "ipython",
    "version": 3
   },
   "file_extension": ".py",
   "mimetype": "text/x-python",
   "name": "python",
   "nbconvert_exporter": "python",
   "pygments_lexer": "ipython3",
   "version": "3.8.8"
  }
 },
 "nbformat": 4,
 "nbformat_minor": 5
}
