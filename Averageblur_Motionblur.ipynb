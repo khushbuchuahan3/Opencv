{
 "cells": [
  {
   "cell_type": "code",
   "execution_count": null,
   "id": "ef4d683f",
   "metadata": {},
   "outputs": [],
   "source": [
    "import cv2\n",
    "import numpy as np\n",
    "\n",
    "#1.Bluring image\n",
    "img=cv2.imread(\"friendsjpg.jpg\")\n",
    "kernal_idendity=np.array([[0,0,0],[0,1,0],[0,0,0]]) \n",
    "kernel_3=np.ones((3,3),dtype=\"float32\")/9.0 # normlization\n",
    "kernel_11=np.ones((11,11),dtype=\"float32\")/121.0\n",
    "\n",
    "output1=cv2.filter2D(img,-1,kernal_idendity)\n",
    "output2=cv2.filter2D(img,-1,kernel_3)\n",
    "output3=cv2.filter2D(img,-1,kernel_11)\n",
    "\n",
    "cv2.imshow(\"output1\",output1)\n",
    "cv2.imshow(\"output2\",output2)\n",
    "cv2.imshow(\"output3\",output3)\n",
    "\n",
    "#2.Motion blurring\n",
    "size=15\n",
    "kernel=np.zeros((size,size))  #take array of 15*15\n",
    "kernel[int(size-1/2),:]=np.ones(size)  #change middle row to 1 for motion blur\n",
    "kernel=kernel/size  #Normlization\n",
    "\n",
    "motion_image=cv2.filter2D(img,-1,kernel)  #-1 indicaate same size as origional image\n",
    "cv2.imshow(\"motion image\",motion_image)\n",
    "\n",
    "cv2.waitKey(0)"
   ]
  }
 ],
 "metadata": {
  "kernelspec": {
   "display_name": "Python 3",
   "language": "python",
   "name": "python3"
  },
  "language_info": {
   "codemirror_mode": {
    "name": "ipython",
    "version": 3
   },
   "file_extension": ".py",
   "mimetype": "text/x-python",
   "name": "python",
   "nbconvert_exporter": "python",
   "pygments_lexer": "ipython3",
   "version": "3.8.8"
  }
 },
 "nbformat": 4,
 "nbformat_minor": 5
}
