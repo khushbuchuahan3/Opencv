{
 "cells": [
  {
   "cell_type": "code",
   "execution_count": null,
   "id": "3a81a66e",
   "metadata": {},
   "outputs": [],
   "source": [
    "import cv2\n",
    "import numpy as np\n",
    "\n",
    "#Read image and getting properties\n",
    "img=cv2.imread(\"friendsjpg.jpg\")\n",
    "rows,cols=img.shape[:2]\n",
    "\n",
    "#Gentating Vintage effect using gaussian mask\n",
    "kernal_x=cv2.getGaussianKernel(cols,200)\n",
    "kernal_y=cv2.getGaussianKernel(rows,200)\n",
    "\n",
    "#Normlize kernal\n",
    "kernal=kernal_y*kernal_x.T\n",
    "kernal=kernal/np.linalg.norm(kernal)\n",
    "\n",
    "#Genration mask\n",
    "mask=kernal*255\n",
    "output=img.copy()\n",
    "\n",
    "#Apply mask each channel of input\n",
    "for i in range(3):\n",
    "    output[:,:,i]=output[:,:,i]*mask\n",
    "\n",
    "\n",
    "cv2.imshow(\"image\",img)\n",
    "cv2.imshow(\"vintage image\",output)\n",
    "cv2.waitKey(0)"
   ]
  }
 ],
 "metadata": {
  "kernelspec": {
   "display_name": "Python 3",
   "language": "python",
   "name": "python3"
  },
  "language_info": {
   "codemirror_mode": {
    "name": "ipython",
    "version": 3
   },
   "file_extension": ".py",
   "mimetype": "text/x-python",
   "name": "python",
   "nbconvert_exporter": "python",
   "pygments_lexer": "ipython3",
   "version": "3.8.8"
  }
 },
 "nbformat": 4,
 "nbformat_minor": 5
}
