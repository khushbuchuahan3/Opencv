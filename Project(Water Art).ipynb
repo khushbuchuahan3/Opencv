{
 "cells": [
  {
   "cell_type": "code",
   "execution_count": null,
   "id": "3fc36387",
   "metadata": {},
   "outputs": [],
   "source": [
    "#Convert Image in Water Art\n",
    "import cv2\n",
    "#-----------------phase1------------------\n",
    "img=cv2.imread(\"friendsjpg.jpg\")\n",
    "\n",
    "#resize_image\n",
    "resize=cv2.resize(img,None,fx=1,fy=1)\n",
    "cv2.imshow(\"resize\",resize)\n",
    "\n",
    "\n",
    "#-----------------phase2------------------\n",
    "#remove impurity of image\n",
    "image_cleared=cv2.medianBlur(resize,3)\n",
    "image_cleared=cv2.medianBlur(resize,3)\n",
    "image_cleared=cv2.medianBlur(resize,3)\n",
    "\n",
    "image_cleared=cv2.edgePreservingFilter(image_cleared,sigma_s=5)\n",
    "\n",
    "#-----------------phase3------------------\n",
    "image_filtered=cv2.bilateralFilter(image_cleared,3,10,5)\n",
    "for i in range(2):\n",
    "    image_filtered = cv2.bilateralFilter(image_filtered, 3, 20, 5)\n",
    "for i in range(3):\n",
    "    image_filtered = cv2.bilateralFilter(image_filtered, 3, 20, 4)\n",
    "for i in range(2):\n",
    "    image_filtered = cv2.bilateralFilter(image_filtered, 3, 10, 4)\n",
    "\n",
    "\n",
    "\n",
    "#-----------------phase4------------------\n",
    "gaussian_mask=cv2.bilateralFilter(image_filtered,-1,3,3)\n",
    "image_sharp=cv2.addWeighted(image_filtered,1.5,gaussian_mask,-0.5,1)\n",
    "image_sharp=cv2.addWeighted(image_sharp,1.3,gaussian_mask,-0.2,10)\n",
    "\n",
    "\n",
    "\n",
    "cv2.imshow(\"image\",img)\n",
    "cv2.imshow(\"fianal_output\",image_sharp)\n",
    "cv2.waitKey(0)"
   ]
  }
 ],
 "metadata": {
  "kernelspec": {
   "display_name": "Python 3",
   "language": "python",
   "name": "python3"
  },
  "language_info": {
   "codemirror_mode": {
    "name": "ipython",
    "version": 3
   },
   "file_extension": ".py",
   "mimetype": "text/x-python",
   "name": "python",
   "nbconvert_exporter": "python",
   "pygments_lexer": "ipython3",
   "version": "3.8.8"
  }
 },
 "nbformat": 4,
 "nbformat_minor": 5
}
