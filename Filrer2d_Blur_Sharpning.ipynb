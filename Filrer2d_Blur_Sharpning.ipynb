{
 "cells": [
  {
   "cell_type": "code",
   "execution_count": null,
   "id": "e866002f",
   "metadata": {},
   "outputs": [],
   "source": [
    "import numpy as np\n",
    "import cv2\n",
    "img=cv2.imread(\"friendsjpg.jpg\")\n",
    "\n",
    "#filter2D\n",
    "kernel=np.ones((5,5),dtype=\"float32\")/25\n",
    "output=cv2.filter2D(img,-1,kernel)\n",
    "cv2.imshow(\"output\",output)\n",
    "\n",
    "#BoxFilter and bluring\n",
    "blur=cv2.blur(img,(5,5))\n",
    "box_filter=cv2.boxFilter(img,-1,(5,5),normalize=True)\n",
    "cv2.imshow(\"blur\",blur)\n",
    "cv2.imshow(\"box_filter\",box_filter)\n",
    "\n",
    "#Gaussian Blur\n",
    "#far better then direct blur and give more weighted to neighborhood pixels\n",
    "gaussian=cv2.GaussianBlur(img,(5,5),0)\n",
    "cv2.imshow(\"gausian\",gaussian)\n",
    "\n",
    "\n",
    "#Median blur\n",
    "#for reduction of noise image beautification\n",
    "median=cv2.medianBlur(img,5)\n",
    "cv2.imshow(\"median\",median)\n",
    "\n",
    "#bilitrate\n",
    "#for noise reduction+edge preserve\n",
    "bilitrate=cv2.bilateralFilter(img,-1,7,7)\n",
    "cv2.imshow(\"bilitrate\",bilitrate)\n",
    "\n",
    "#Sharpning\n",
    "sharpning=cv2.addWeighted(img,1.5,gaussian,-0.5,1)\n",
    "cv2.imshow(\"sharpning\",sharpning)\n",
    "cv2.waitKey(0)"
   ]
  }
 ],
 "metadata": {
  "kernelspec": {
   "display_name": "Python 3",
   "language": "python",
   "name": "python3"
  },
  "language_info": {
   "codemirror_mode": {
    "name": "ipython",
    "version": 3
   },
   "file_extension": ".py",
   "mimetype": "text/x-python",
   "name": "python",
   "nbconvert_exporter": "python",
   "pygments_lexer": "ipython3",
   "version": "3.8.8"
  }
 },
 "nbformat": 4,
 "nbformat_minor": 5
}
