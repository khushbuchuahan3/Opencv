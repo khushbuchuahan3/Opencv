{
 "cells": [
  {
   "cell_type": "code",
   "execution_count": null,
   "id": "3a81a66e",
   "metadata": {},
   "outputs": [],
   "source": [
    "import cv2\n",
    "import numpy as np\n",
    "\n",
    "img=np.zeros((500,500),dtype=\"uint8\")\n",
    "\n",
    "def create_circle(event,x,y,flags,params):\n",
    "    if (event==cv2.EVENT_LBUTTONDBLCLK):\n",
    "        cv2.circle(img,(x,y),10,(255,255,255),2)\n",
    "cv2.namedWindow(\"image\")\n",
    "cv2.setMouseCallback(\"image\",create_circle)\n",
    "\n",
    "while True:\n",
    "    cv2.imshow(\"image\",img)\n",
    "    if cv2.waitKey(20)==ord(\"q\"):\n",
    "        break\n",
    "\n",
    "cv2.destroyAllWindows()"
   ]
  }
 ],
 "metadata": {
  "kernelspec": {
   "display_name": "Python 3",
   "language": "python",
   "name": "python3"
  },
  "language_info": {
   "codemirror_mode": {
    "name": "ipython",
    "version": 3
   },
   "file_extension": ".py",
   "mimetype": "text/x-python",
   "name": "python",
   "nbconvert_exporter": "python",
   "pygments_lexer": "ipython3",
   "version": "3.8.8"
  }
 },
 "nbformat": 4,
 "nbformat_minor": 5
}
