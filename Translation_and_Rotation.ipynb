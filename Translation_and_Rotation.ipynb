{
 "cells": [
  {
   "cell_type": "code",
   "execution_count": null,
   "id": "e6bf2f34",
   "metadata": {},
   "outputs": [],
   "source": [
    "import cv2\n",
    "import numpy as np\n",
    "\n",
    "img=cv2.imread(\"friendsjpg.jpg\")\n",
    "\n",
    "#Traslation\n",
    "height,width=img.shape[:2]\n",
    "matrix=np.float64([[1,0,100],[0,1,100]])\n",
    "traslate=cv2.warpAffine(img,matrix,(img.shape[1]+100,img.shape[0]+100))\n",
    "cv2.imshow(\"traslate\",traslate)\n",
    "\n",
    "#Rotation\n",
    "rotation_matrix=cv2.getRotationMatrix2D((height/2,height/2),20,1)\n",
    "rotation=cv2.warpAffine(img,rotation_matrix,(width,height))\n",
    "cv2.imshow(\"rotation image\",rotation)\n",
    "cv2.waitKey(0)"
   ]
  }
 ],
 "metadata": {
  "kernelspec": {
   "display_name": "Python 3",
   "language": "python",
   "name": "python3"
  },
  "language_info": {
   "codemirror_mode": {
    "name": "ipython",
    "version": 3
   },
   "file_extension": ".py",
   "mimetype": "text/x-python",
   "name": "python",
   "nbconvert_exporter": "python",
   "pygments_lexer": "ipython3",
   "version": "3.8.8"
  }
 },
 "nbformat": 4,
 "nbformat_minor": 5
}
