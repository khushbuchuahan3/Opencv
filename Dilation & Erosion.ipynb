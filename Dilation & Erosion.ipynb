{
 "cells": [
  {
   "cell_type": "code",
   "execution_count": null,
   "id": "3a81a66e",
   "metadata": {},
   "outputs": [],
   "source": [
    "import numpy as np\n",
    "import cv2\n",
    "img=cv2.imread(\"friendsjpg.jpg\")\n",
    "kernel=np.ones((3,3),dtype=\"uint8\")\n",
    "\n",
    "#Erosion if any pixel is black convert all in black\n",
    "erosion=cv2.erode(img,kernel,iterations=1)\n",
    "\n",
    "#Dilation if any pixel is while convert all in white\n",
    "dilation=cv2.dilate(img,kernel,iterations=1)\n",
    "\n",
    "#Remove noise behind the image\n",
    "opening=cv2.morphologyEx(img,cv2.MORPH_OPEN,kernel)\n",
    "\n",
    "#Remove noise in the image\n",
    "closing=cv2.morphologyEx(img,cv2.MORPH_CLOSE,kernel)\n",
    "\n",
    "#If we want line between image and baggroud\n",
    "gradient=cv2.morphologyEx(img,cv2.MORPH_GRADIENT,kernel)\n",
    "\n",
    "#Highlight small details\n",
    "top_hat=cv2.morphologyEx(img,cv2.MORPH_TOPHAT,kernel)\n",
    "\n",
    "#Highlight large details\n",
    "black_hat=cv2.morphologyEx(img,cv2.MORPH_BLACKHAT,kernel)\n",
    "\n",
    "cv2.imshow(\"erosion\",erosion)\n",
    "cv2.imshow(\"dilation\",dilation)\n",
    "cv2.imshow(\"opening\",opening)\n",
    "cv2.imshow(\"close\",closing)\n",
    "cv2.imshow(\"gradient\",gradient)\n",
    "cv2.imshow(\"top_hat\",top_hat)\n",
    "cv2.imshow(\"black hat\",black_hat)\n",
    "\n",
    "cv2.waitKey(0)"
   ]
  }
 ],
 "metadata": {
  "kernelspec": {
   "display_name": "Python 3",
   "language": "python",
   "name": "python3"
  },
  "language_info": {
   "codemirror_mode": {
    "name": "ipython",
    "version": 3
   },
   "file_extension": ".py",
   "mimetype": "text/x-python",
   "name": "python",
   "nbconvert_exporter": "python",
   "pygments_lexer": "ipython3",
   "version": "3.8.8"
  }
 },
 "nbformat": 4,
 "nbformat_minor": 5
}
