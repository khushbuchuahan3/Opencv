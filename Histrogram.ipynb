{
 "cells": [
  {
   "cell_type": "code",
   "execution_count": null,
   "id": "3a81a66e",
   "metadata": {},
   "outputs": [],
   "source": [
    "import cv2\n",
    "import matplotlib.pyplot as plt\n",
    "\n",
    "image=cv2.imread(\"family.jpg\")\n",
    "grey=cv2.cvtColor(image,cv2.COLOR_BGR2GRAY)\n",
    "\n",
    "# Normal Histrogram\n",
    "hist=cv2.calcHist([grey],[0],None,[256],[0,255])\n",
    "plt.plot(hist)\n",
    "plt.show()\n",
    "\n",
    "#enhancing Image\n",
    "b,g,r=cv2.split(image)\n",
    "image_hsv=cv2.cvtColor(image,cv2.COLOR_BGR2HSV)\n",
    "h,s,v=cv2.split(image_hsv)\n",
    "s=cv2.equalizeHist(s)\n",
    "hsv_merge=cv2.merge((h,s,v))\n",
    "bgr_enhance=cv2.cvtColor(hsv_merge,cv2.COLOR_HSV2BGR)\n",
    "cv2.imshow(\"bgr_enhance\",bgr_enhance)\n",
    "\n",
    "#Declaration of Clahe\n",
    "clahe=cv2.createCLAHE(clipLimit=5)\n",
    "final=clahe.apply(grey)\n",
    "norm_hist=cv2.equalizeHist(grey)\n",
    "cv2.imshow(\"image\",norm_hist)\n",
    "cv2.imshow(\"grey\",final)\n",
    "cv2.imshow(\"image\",image)\n",
    "cv2.waitKey(0)"
   ]
  }
 ],
 "metadata": {
  "kernelspec": {
   "display_name": "Python 3",
   "language": "python",
   "name": "python3"
  },
  "language_info": {
   "codemirror_mode": {
    "name": "ipython",
    "version": 3
   },
   "file_extension": ".py",
   "mimetype": "text/x-python",
   "name": "python",
   "nbconvert_exporter": "python",
   "pygments_lexer": "ipython3",
   "version": "3.8.8"
  }
 },
 "nbformat": 4,
 "nbformat_minor": 5
}
