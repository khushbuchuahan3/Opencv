{
 "cells": [
  {
   "cell_type": "code",
   "execution_count": null,
   "id": "974db09a",
   "metadata": {},
   "outputs": [],
   "source": [
    "import cv2\n",
    "import numpy as np\n",
    "\n",
    "img=np.zeros((800,800))\n",
    "position=(10,30)\n",
    "fonts=[cv2.FONT_ITALIC,\n",
    "       cv2.FONT_HERSHEY_DUPLEX,\n",
    "       cv2.FONT_HERSHEY_PLAIN,\n",
    "       cv2.FONT_HERSHEY_SIMPLEX,\n",
    "       cv2.FONT_HERSHEY_TRIPLEX,\n",
    "       cv2.FONT_HERSHEY_COMPLEX,\n",
    "       cv2.FONT_HERSHEY_SCRIPT_COMPLEX,\n",
    "       cv2.FONT_HERSHEY_COMPLEX_SMALL]\n",
    "\n",
    "for i in range(1,8):\n",
    "    cv2.putText(img,\"HI Amit\",position,fonts[i],1.1,(255,0,0),2)\n",
    "    position=(position[0],position[1]+40)\n",
    "cv2.imshow(\"img\",img)\n",
    "cv2.waitKey(0)"
   ]
  }
 ],
 "metadata": {
  "kernelspec": {
   "display_name": "Python 3",
   "language": "python",
   "name": "python3"
  },
  "language_info": {
   "codemirror_mode": {
    "name": "ipython",
    "version": 3
   },
   "file_extension": ".py",
   "mimetype": "text/x-python",
   "name": "python",
   "nbconvert_exporter": "python",
   "pygments_lexer": "ipython3",
   "version": "3.8.8"
  }
 },
 "nbformat": 4,
 "nbformat_minor": 5
}
